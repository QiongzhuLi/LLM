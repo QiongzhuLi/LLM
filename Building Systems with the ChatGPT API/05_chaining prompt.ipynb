{
 "cells": [
  {
   "attachments": {},
   "cell_type": "markdown",
   "id": "ff36c035-80da-40b4-b7b4-04f25d3c5f3f",
   "metadata": {},
   "source": [
    "# L5 Process Inputs: Chaining Prompts\n"
   ]
  },
  {
   "attachments": {},
   "cell_type": "markdown",
   "id": "fa247fb7-48bd-445e-82cc-e1b93893ab8b",
   "metadata": {},
   "source": [
    "## Setup\n",
    "#### Load the API key and relevant Python libaries.\n",
    "In this course, we've provided some code that loads the OpenAI API key for you."
   ]
  },
  {
   "cell_type": "code",
   "execution_count": null,
   "id": "230146b2",
   "metadata": {},
   "outputs": [],
   "source": [
    "import os\n",
    "import openai\n",
    "from dotenv import load_dotenv, find_dotenv\n",
    "_ = load_dotenv(find_dotenv()) # read local .env file\n",
    "\n",
    "openai.api_key  = os.environ['OPENAI_API_KEY']"
   ]
  },
  {
   "cell_type": "code",
   "execution_count": null,
   "id": "032b3add",
   "metadata": {},
   "outputs": [],
   "source": [
    "def get_completion_from_messages(messages, \n",
    "                                 model=\"gpt-3.5-turbo\", \n",
    "                                 temperature=0, \n",
    "                                 max_tokens=500):\n",
    "    response = openai.ChatCompletion.create(\n",
    "        model=model,\n",
    "        messages=messages,\n",
    "        temperature=temperature, \n",
    "        max_tokens=max_tokens, \n",
    "    )\n",
    "    return response.choices[0].message[\"content\"]"
   ]
  },
  {
   "attachments": {},
   "cell_type": "markdown",
   "id": "893e03f3-beaf-407d-be10-120d0f5760af",
   "metadata": {},
   "source": [
    "## Implement a complex task with multiple prompts\n",
    "\n",
    "### Extract relevant product and category names"
   ]
  },
  {
   "cell_type": "code",
   "execution_count": null,
   "id": "cb6059af",
   "metadata": {},
   "outputs": [],
   "source": [
    "delimiter = \"####\"\n",
    "system_message = f\"\"\"\n",
    "You will be provided with customer service queries. \\\n",
    "The customer service query will be delimited with \\\n",
    "{delimiter} characters.\n",
    "Output a python list of objects, where each object has \\\n",
    "the following format:\n",
    "    'category': <one of Computers and Laptops, \\\n",
    "    Smartphones and Accessories, \\\n",
    "    Televisions and Home Theater Systems, \\\n",
    "    Gaming Consoles and Accessories, \n",
    "    Audio Equipment, Cameras and Camcorders>,\n",
    "OR\n",
    "    'products': <a list of products that must \\\n",
    "    be found in the allowed products below>\n",
    "\n",
    "Where the categories and products must be found in \\\n",
    "the customer service query.\n",
    "If a product is mentioned, it must be associated with \\\n",
    "the correct category in the allowed products list below.\n",
    "If no products or categories are found, output an \\\n",
    "empty list.\n",
    "\n",
    "Allowed products: \n",
    "\n",
    "Computers and Laptops category:\n",
    "TechPro Ultrabook\n",
    "BlueWave Gaming Laptop\n",
    "PowerLite Convertible\n",
    "TechPro Desktop\n",
    "BlueWave Chromebook\n",
    "\n",
    "Smartphones and Accessories category:\n",
    "SmartX ProPhone\n",
    "MobiTech PowerCase\n",
    "SmartX MiniPhone\n",
    "MobiTech Wireless Charger\n",
    "SmartX EarBuds\n",
    "\n",
    "Televisions and Home Theater Systems category:\n",
    "CineView 4K TV\n",
    "SoundMax Home Theater\n",
    "CineView 8K TV\n",
    "SoundMax Soundbar\n",
    "CineView OLED TV\n",
    "\n",
    "Gaming Consoles and Accessories category:\n",
    "GameSphere X\n",
    "ProGamer Controller\n",
    "GameSphere Y\n",
    "ProGamer Racing Wheel\n",
    "GameSphere VR Headset\n",
    "\n",
    "Audio Equipment category:\n",
    "AudioPhonic Noise-Canceling Headphones\n",
    "WaveSound Bluetooth Speaker\n",
    "AudioPhonic True Wireless Earbuds\n",
    "WaveSound Soundbar\n",
    "AudioPhonic Turntable\n",
    "\n",
    "Cameras and Camcorders category:\n",
    "FotoSnap DSLR Camera\n",
    "ActionCam 4K\n",
    "FotoSnap Mirrorless Camera\n",
    "ZoomMaster Camcorder\n",
    "FotoSnap Instant Camera\n",
    "\n",
    "Only output the list of objects, with nothing else.\n",
    "\"\"\"\n",
    "user_message_1 = f\"\"\"\n",
    " tell me about the smartx pro phone and \\\n",
    " the fotosnap camera, the dslr one. \\\n",
    " Also tell me about your tvs \"\"\"\n",
    "messages =  [  \n",
    "{'role':'system', \n",
    " 'content': system_message},    \n",
    "{'role':'user', \n",
    " 'content': f\"{delimiter}{user_message_1}{delimiter}\"},  \n",
    "] \n",
    "category_and_product_response_1 = get_completion_from_messages(messages)\n",
    "print(category_and_product_response_1)"
   ]
  },
  {
   "attachments": {
    "image.png": {
     "image/png": "[encoded data removed]"
    }
   },
   "cell_type": "markdown",
   "id": "0a8e79c8",
   "metadata": {},
   "source": [
    "![image.png](attachment:image.png)"
   ]
  },
  {
   "cell_type": "code",
   "execution_count": null,
   "id": "1aa1367c",
   "metadata": {},
   "outputs": [],
   "source": [
    "user_message_2 = f\"\"\"\n",
    "my router isn't working\"\"\"\n",
    "messages =  [  \n",
    "{'role':'system',\n",
    " 'content': system_message},    \n",
    "{'role':'user',\n",
    " 'content': f\"{delimiter}{user_message_2}{delimiter}\"},  \n",
    "] \n",
    "response = get_completion_from_messages(messages)\n",
    "print(response)"
   ]
  },
  {
   "attachments": {
    "image.png": {
     "image/png": "[encoded data removed]"
    }
   },
   "cell_type": "markdown",
   "id": "30e6a81b",
   "metadata": {},
   "source": [
    "![image.png](attachment:image.png)"
   ]
  },
  {
   "attachments": {},
   "cell_type": "markdown",
   "id": "adb67e58-78e3-49e3-830e-5983131723ab",
   "metadata": {},
   "source": [
    "### Retrieve detailed product information for extracted products and categories"
   ]
  },
  {
   "cell_type": "code",
   "execution_count": null,
   "id": "502fb261",
   "metadata": {},
   "outputs": [],
   "source": [
    "# product information\n",
    "products = {\n",
    "    \"TechPro Ultrabook\": {\n",
    "        \"name\": \"TechPro Ultrabook\",\n",
    "        \"category\": \"Computers and Laptops\",\n",
    "        \"brand\": \"TechPro\",\n",
    "        \"model_number\": \"TP-UB100\",\n",
    "        \"warranty\": \"1 year\",\n",
    "        \"rating\": 4.5,\n",
    "        \"features\": [\"13.3-inch display\", \"8GB RAM\", \"256GB SSD\", \"Intel Core i5 processor\"],\n",
    "        \"description\": \"A sleek and lightweight ultrabook for everyday use.\",\n",
    "        \"price\": 799.99\n",
    "    },\n",
    "    \"BlueWave Gaming Laptop\": {\n",
    "        \"name\": \"BlueWave Gaming Laptop\",\n",
    "        \"category\": \"Computers and Laptops\",\n",
    "        \"brand\": \"BlueWave\",\n",
    "        \"model_number\": \"BW-GL200\",\n",
    "        \"warranty\": \"2 years\",\n",
    "        \"rating\": 4.7,\n",
    "        \"features\": [\"15.6-inch display\", \"16GB RAM\", \"512GB SSD\", \"NVIDIA GeForce RTX 3060\"],\n",
    "        \"description\": \"A high-performance gaming laptop for an immersive experience.\",\n",
    "        \"price\": 1199.99\n",
    "    },\n",
    "    \"PowerLite Convertible\": {\n",
    "        \"name\": \"PowerLite Convertible\",\n",
    "        \"category\": \"Computers and Laptops\",\n",
    "        \"brand\": \"PowerLite\",\n",
    "        \"model_number\": \"PL-CV300\",\n",
    "        \"warranty\": \"1 year\",\n",
    "        \"rating\": 4.3,\n",
    "        \"features\": [\"14-inch touchscreen\", \"8GB RAM\", \"256GB SSD\", \"360-degree hinge\"],\n",
    "        \"description\": \"A versatile convertible laptop with a responsive touchscreen.\",\n",
    "        \"price\": 699.99\n",
    "    },\n",
    "    \"TechPro Desktop\": {\n",
    "        \"name\": \"TechPro Desktop\",\n",
    "        \"category\": \"Computers and Laptops\",\n",
    "        \"brand\": \"TechPro\",\n",
    "        \"model_number\": \"TP-DT500\",\n",
    "        \"warranty\": \"1 year\",\n",
    "        \"rating\": 4.4,\n",
    "        \"features\": [\"Intel Core i7 processor\", \"16GB RAM\", \"1TB HDD\", \"NVIDIA GeForce GTX 1660\"],\n",
    "        \"description\": \"A powerful desktop computer for work and play.\",\n",
    "        \"price\": 999.99\n",
    "    },\n",
    "    \"BlueWave Chromebook\": {\n",
    "        \"name\": \"BlueWave Chromebook\",\n",
    "        \"category\": \"Computers and Laptops\",\n",
    "        \"brand\": \"BlueWave\",\n",
    "        \"model_number\": \"BW-CB100\",\n",
    "        \"warranty\": \"1 year\",\n",
    "        \"rating\": 4.1,\n",
    "        \"features\": [\"11.6-inch display\", \"4GB RAM\", \"32GB eMMC\", \"Chrome OS\"],\n",
    "        \"description\": \"A compact and affordable Chromebook for everyday tasks.\",\n",
    "        \"price\": 249.99\n",
    "    },\n",
    "    \"SmartX ProPhone\": {\n",
    "        \"name\": \"SmartX ProPhone\",\n",
    "        \"category\": \"Smartphones and Accessories\",\n",
    "        \"brand\": \"SmartX\",\n",
    "        \"model_number\": \"SX-PP10\",\n",
    "        \"warranty\": \"1 year\",\n",
    "        \"rating\": 4.6,\n",
    "        \"features\": [\"6.1-inch display\", \"128GB storage\", \"12MP dual camera\", \"5G\"],\n",
    "        \"description\": \"A powerful smartphone with advanced camera features.\",\n",
    "        \"price\": 899.99\n",
    "    },\n",
    "    \"MobiTech PowerCase\": {\n",
    "        \"name\": \"MobiTech PowerCase\",\n",
    "        \"category\": \"Smartphones and Accessories\",\n",
    "        \"brand\": \"MobiTech\",\n",
    "        \"model_number\": \"MT-PC20\",\n",
    "        \"warranty\": \"1 year\",\n",
    "        \"rating\": 4.3,\n",
    "        \"features\": [\"5000mAh battery\", \"Wireless charging\", \"Compatible with SmartX ProPhone\"],\n",
    "        \"description\": \"A protective case with built-in battery for extended usage.\",\n",
    "        \"price\": 59.99\n",
    "    },\n",
    "    \"SmartX MiniPhone\": {\n",
    "        \"name\": \"SmartX MiniPhone\",\n",
    "        \"category\": \"Smartphones and Accessories\",\n",
    "        \"brand\": \"SmartX\",\n",
    "        \"model_number\": \"SX-MP5\",\n",
    "        \"warranty\": \"1 year\",\n",
    "        \"rating\": 4.2,\n",
    "        \"features\": [\"4.7-inch display\", \"64GB storage\", \"8MP camera\", \"4G\"],\n",
    "        \"description\": \"A compact and affordable smartphone for basic tasks.\",\n",
    "        \"price\": 399.99\n",
    "    },\n",
    "    \"MobiTech Wireless Charger\": {\n",
    "        \"name\": \"MobiTech Wireless Charger\",\n",
    "        \"category\": \"Smartphones and Accessories\",\n",
    "        \"brand\": \"MobiTech\",\n",
    "        \"model_number\": \"MT-WC10\",\n",
    "        \"warranty\": \"1 year\",\n",
    "        \"rating\": 4.5,\n",
    "        \"features\": [\"10W fast charging\", \"Qi-compatible\", \"LED indicator\", \"Compact design\"],\n",
    "        \"description\": \"A convenient wireless charger for a clutter-free workspace.\",\n",
    "        \"price\": 29.99\n",
    "    },\n",
    "    \"SmartX EarBuds\": {\n",
    "        \"name\": \"SmartX EarBuds\",\n",
    "        \"category\": \"Smartphones and Accessories\",\n",
    "        \"brand\": \"SmartX\",\n",
    "        \"model_number\": \"SX-EB20\",\n",
    "        \"warranty\": \"1 year\",\n",
    "        \"rating\": 4.4,\n",
    "        \"features\": [\"True wireless\", \"Bluetooth 5.0\", \"Touch controls\", \"24-hour battery life\"],\n",
    "        \"description\": \"Experience true wireless freedom with these comfortable earbuds.\",\n",
    "        \"price\": 99.99\n",
    "    },\n",
    "\n",
    "    \"CineView 4K TV\": {\n",
    "        \"name\": \"CineView 4K TV\",\n",
    "        \"category\": \"Televisions and Home Theater Systems\",\n",
    "        \"brand\": \"CineView\",\n",
    "        \"model_number\": \"CV-4K55\",\n",
    "        \"warranty\": \"2 years\",\n",
    "        \"rating\": 4.8,\n",
    "        \"features\": [\"55-inch display\", \"4K resolution\", \"HDR\", \"Smart TV\"],\n",
    "        \"description\": \"A stunning 4K TV with vibrant colors and smart features.\",\n",
    "        \"price\": 599.99\n",
    "    },\n",
    "    \"SoundMax Home Theater\": {\n",
    "        \"name\": \"SoundMax Home Theater\",\n",
    "        \"category\": \"Televisions and Home Theater Systems\",\n",
    "        \"brand\": \"SoundMax\",\n",
    "        \"model_number\": \"SM-HT100\",\n",
    "        \"warranty\": \"1 year\",\n",
    "        \"rating\": 4.4,\n",
    "        \"features\": [\"5.1 channel\", \"1000W output\", \"Wireless subwoofer\", \"Bluetooth\"],\n",
    "        \"description\": \"A powerful home theater system for an immersive audio experience.\",\n",
    "        \"price\": 399.99\n",
    "    },\n",
    "    \"CineView 8K TV\": {\n",
    "        \"name\": \"CineView 8K TV\",\n",
    "        \"category\": \"Televisions and Home Theater Systems\",\n",
    "        \"brand\": \"CineView\",\n",
    "        \"model_number\": \"CV-8K65\",\n",
    "        \"warranty\": \"2 years\",\n",
    "        \"rating\": 4.9,\n",
    "        \"features\": [\"65-inch display\", \"8K resolution\", \"HDR\", \"Smart TV\"],\n",
    "        \"description\": \"Experience the future of television with this stunning 8K TV.\",\n",
    "        \"price\": 2999.99\n",
    "    },\n",
    "    \"SoundMax Soundbar\": {\n",
    "        \"name\": \"SoundMax Soundbar\",\n",
    "        \"category\": \"Televisions and Home Theater Systems\",\n",
    "        \"brand\": \"SoundMax\",\n",
    "        \"model_number\": \"SM-SB50\",\n",
    "        \"warranty\": \"1 year\",\n",
    "        \"rating\": 4.3,\n",
    "        \"features\": [\"2.1 channel\", \"300W output\", \"Wireless subwoofer\", \"Bluetooth\"],\n",
    "        \"description\": \"Upgrade your TV's audio with this sleek and powerful soundbar.\",\n",
    "        \"price\": 199.99\n",
    "    },\n",
    "    \"CineView OLED TV\": {\n",
    "        \"name\": \"CineView OLED TV\",\n",
    "        \"category\": \"Televisions and Home Theater Systems\",\n",
    "        \"brand\": \"CineView\",\n",
    "        \"model_number\": \"CV-OLED55\",\n",
    "        \"warranty\": \"2 years\",\n",
    "        \"rating\": 4.7,\n",
    "        \"features\": [\"55-inch display\", \"4K resolution\", \"HDR\", \"Smart TV\"],\n",
    "        \"description\": \"Experience true blacks and vibrant colors with this OLED TV.\",\n",
    "        \"price\": 1499.99\n",
    "    },\n",
    "\n",
    "    \"GameSphere X\": {\n",
    "        \"name\": \"GameSphere X\",\n",
    "        \"category\": \"Gaming Consoles and Accessories\",\n",
    "        \"brand\": \"GameSphere\",\n",
    "        \"model_number\": \"GS-X\",\n",
    "        \"warranty\": \"1 year\",\n",
    "        \"rating\": 4.9,\n",
    "        \"features\": [\"4K gaming\", \"1TB storage\", \"Backward compatibility\", \"Online multiplayer\"],\n",
    "        \"description\": \"A next-generation gaming console for the ultimate gaming experience.\",\n",
    "        \"price\": 499.99\n",
    "    },\n",
    "    \"ProGamer Controller\": {\n",
    "        \"name\": \"ProGamer Controller\",\n",
    "        \"category\": \"Gaming Consoles and Accessories\",\n",
    "        \"brand\": \"ProGamer\",\n",
    "        \"model_number\": \"PG-C100\",\n",
    "        \"warranty\": \"1 year\",\n",
    "        \"rating\": 4.2,\n",
    "        \"features\": [\"Ergonomic design\", \"Customizable buttons\", \"Wireless\", \"Rechargeable battery\"],\n",
    "        \"description\": \"A high-quality gaming controller for precision and comfort.\",\n",
    "        \"price\": 59.99\n",
    "    },\n",
    "    \"GameSphere Y\": {\n",
    "        \"name\": \"GameSphere Y\",\n",
    "        \"category\": \"Gaming Consoles and Accessories\",\n",
    "        \"brand\": \"GameSphere\",\n",
    "        \"model_number\": \"GS-Y\",\n",
    "        \"warranty\": \"1 year\",\n",
    "        \"rating\": 4.8,\n",
    "        \"features\": [\"4K gaming\", \"500GB storage\", \"Backward compatibility\", \"Online multiplayer\"],\n",
    "        \"description\": \"A compact gaming console with powerful performance.\",\n",
    "        \"price\": 399.99\n",
    "    },\n",
    "    \"ProGamer Racing Wheel\": {\n",
    "        \"name\": \"ProGamer Racing Wheel\",\n",
    "        \"category\": \"Gaming Consoles and Accessories\",\n",
    "        \"brand\": \"ProGamer\",\n",
    "        \"model_number\": \"PG-RW200\",\n",
    "        \"warranty\": \"1 year\",\n",
    "        \"rating\": 4.5,\n",
    "        \"features\": [\"Force feedback\", \"Adjustable pedals\", \"Paddle shifters\", \"Compatible with GameSphere X\"],\n",
    "        \"description\": \"Enhance your racing games with this realistic racing wheel.\",\n",
    "        \"price\": 249.99\n",
    "    },\n",
    "    \"GameSphere VR Headset\": {\n",
    "        \"name\": \"GameSphere VR Headset\",\n",
    "        \"category\": \"Gaming Consoles and Accessories\",\n",
    "        \"brand\": \"GameSphere\",\n",
    "        \"model_number\": \"GS-VR\",\n",
    "        \"warranty\": \"1 year\",\n",
    "        \"rating\": 4.6,\n",
    "        \"features\": [\"Immersive VR experience\", \"Built-in headphones\", \"Adjustable headband\", \"Compatible with GameSphere X\"],\n",
    "        \"description\": \"Step into the world of virtual reality with this comfortable VR headset.\",\n",
    "        \"price\": 299.99\n",
    "    },\n",
    "\n",
    "    \"AudioPhonic Noise-Canceling Headphones\": {\n",
    "        \"name\": \"AudioPhonic Noise-Canceling Headphones\",\n",
    "        \"category\": \"Audio Equipment\",\n",
    "        \"brand\": \"AudioPhonic\",\n",
    "        \"model_number\": \"AP-NC100\",\n",
    "        \"warranty\": \"1 year\",\n",
    "        \"rating\": 4.6,\n",
    "        \"features\": [\"Active noise-canceling\", \"Bluetooth\", \"20-hour battery life\", \"Comfortable fit\"],\n",
    "        \"description\": \"Experience immersive sound with these noise-canceling headphones.\",\n",
    "        \"price\": 199.99\n",
    "    },\n",
    "    \"WaveSound Bluetooth Speaker\": {\n",
    "        \"name\": \"WaveSound Bluetooth Speaker\",\n",
    "        \"category\": \"Audio Equipment\",\n",
    "        \"brand\": \"WaveSound\",\n",
    "        \"model_number\": \"WS-BS50\",\n",
    "        \"warranty\": \"1 year\",\n",
    "        \"rating\": 4.5,\n",
    "        \"features\": [\"Portable\", \"10-hour battery life\", \"Water-resistant\", \"Built-in microphone\"],\n",
    "        \"description\": \"A compact and versatile Bluetooth speaker for music on the go.\",\n",
    "        \"price\": 49.99\n",
    "    },\n",
    "    \"AudioPhonic True Wireless Earbuds\": {\n",
    "        \"name\": \"AudioPhonic True Wireless Earbuds\",\n",
    "        \"category\": \"Audio Equipment\",\n",
    "        \"brand\": \"AudioPhonic\",\n",
    "        \"model_number\": \"AP-TW20\",\n",
    "        \"warranty\": \"1 year\",\n",
    "        \"rating\": 4.4,\n",
    "        \"features\": [\"True wireless\", \"Bluetooth 5.0\", \"Touch controls\", \"18-hour battery life\"],\n",
    "        \"description\": \"Enjoy music without wires with these comfortable true wireless earbuds.\",\n",
    "        \"price\": 79.99\n",
    "    },\n",
    "    \"WaveSound Soundbar\": {\n",
    "        \"name\": \"WaveSound Soundbar\",\n",
    "        \"category\": \"Audio Equipment\",\n",
    "        \"brand\": \"WaveSound\",\n",
    "        \"model_number\": \"WS-SB40\",\n",
    "        \"warranty\": \"1 year\",\n",
    "        \"rating\": 4.3,\n",
    "        \"features\": [\"2.0 channel\", \"80W output\", \"Bluetooth\", \"Wall-mountable\"],\n",
    "        \"description\": \"Upgrade your TV's audio with this slim and powerful soundbar.\",\n",
    "        \"price\": 99.99\n",
    "    },\n",
    "    \"AudioPhonic Turntable\": {\n",
    "        \"name\": \"AudioPhonic Turntable\",\n",
    "        \"category\": \"Audio Equipment\",\n",
    "        \"brand\": \"AudioPhonic\",\n",
    "        \"model_number\": \"AP-TT10\",\n",
    "        \"warranty\": \"1 year\",\n",
    "        \"rating\": 4.2,\n",
    "        \"features\": [\"3-speed\", \"Built-in speakers\", \"Bluetooth\", \"USB recording\"],\n",
    "        \"description\": \"Rediscover your vinyl collection with this modern turntable.\",\n",
    "        \"price\": 149.99\n",
    "    },\n",
    "\n",
    "    \"FotoSnap DSLR Camera\": {\n",
    "        \"name\": \"FotoSnap DSLR Camera\",\n",
    "        \"category\": \"Cameras and Camcorders\",\n",
    "        \"brand\": \"FotoSnap\",\n",
    "        \"model_number\": \"FS-DSLR200\",\n",
    "        \"warranty\": \"1 year\",\n",
    "        \"rating\": 4.7,\n",
    "        \"features\": [\"24.2MP sensor\", \"1080p video\", \"3-inch LCD\", \"Interchangeable lenses\"],\n",
    "        \"description\": \"Capture stunning photos and videos with this versatile DSLR camera.\",\n",
    "        \"price\": 599.99\n",
    "    },\n",
    "    \"ActionCam 4K\": {\n",
    "        \"name\": \"ActionCam 4K\",\n",
    "        \"category\": \"Cameras and Camcorders\",\n",
    "        \"brand\": \"ActionCam\",\n",
    "        \"model_number\": \"AC-4K\",\n",
    "        \"warranty\": \"1 year\",\n",
    "        \"rating\": 4.4,\n",
    "        \"features\": [\"4K video\", \"Waterproof\", \"Image stabilization\", \"Wi-Fi\"],\n",
    "        \"description\": \"Record your adventures with this rugged and compact 4K action camera.\",\n",
    "        \"price\": 299.99\n",
    "    },\n",
    "    \"FotoSnap Mirrorless Camera\": {\n",
    "        \"name\": \"FotoSnap Mirrorless Camera\",\n",
    "        \"category\": \"Cameras and Camcorders\",\n",
    "        \"brand\": \"FotoSnap\",\n",
    "        \"model_number\": \"FS-ML100\",\n",
    "        \"warranty\": \"1 year\",\n",
    "        \"rating\": 4.6,\n",
    "        \"features\": [\"20.1MP sensor\", \"4K video\", \"3-inch touchscreen\", \"Interchangeable lenses\"],\n",
    "        \"description\": \"A compact and lightweight mirrorless camera with advanced features.\",\n",
    "        \"price\": 799.99\n",
    "    },\n",
    "    \"ZoomMaster Camcorder\": {\n",
    "        \"name\": \"ZoomMaster Camcorder\",\n",
    "        \"category\": \"Cameras and Camcorders\",\n",
    "        \"brand\": \"ZoomMaster\",\n",
    "        \"model_number\": \"ZM-CM50\",\n",
    "        \"warranty\": \"1 year\",\n",
    "        \"rating\": 4.3,\n",
    "        \"features\": [\"1080p video\", \"30x optical zoom\", \"3-inch LCD\", \"Image stabilization\"],\n",
    "        \"description\": \"Capture life's moments with this easy-to-use camcorder.\",\n",
    "        \"price\": 249.99\n",
    "    },\n",
    "    \"FotoSnap Instant Camera\": {\n",
    "        \"name\": \"FotoSnap Instant Camera\",\n",
    "        \"category\": \"Cameras and Camcorders\",\n",
    "        \"brand\": \"FotoSnap\",\n",
    "        \"model_number\": \"FS-IC10\",\n",
    "        \"warranty\": \"1 year\",\n",
    "        \"rating\": 4.1,\n",
    "        \"features\": [\"Instant prints\", \"Built-in flash\", \"Selfie mirror\", \"Battery-powered\"],\n",
    "        \"description\": \"Create instant memories with this fun and portable instant camera.\",\n",
    "        \"price\": 69.99\n",
    "    }\n",
    "}"
   ]
  },
  {
   "cell_type": "code",
   "execution_count": null,
   "id": "64d0e64e",
   "metadata": {},
   "outputs": [],
   "source": [
    "def get_product_by_name(name):\n",
    "    return products.get(name, None)\n",
    "\n",
    "def get_products_by_category(category):\n",
    "    return [product for product in products.values() if product[\"category\"] == category]"
   ]
  },
  {
   "cell_type": "code",
   "execution_count": null,
   "id": "11b08b69",
   "metadata": {},
   "outputs": [],
   "source": [
    "print(get_product_by_name(\"TechPro Ultrabook\"))"
   ]
  },
  {
   "attachments": {
    "image.png": {
     "image/png": "[encoded data removed]"
    }
   },
   "cell_type": "markdown",
   "id": "649fdba9",
   "metadata": {},
   "source": [
    "![image.png](attachment:image.png)"
   ]
  },
  {
   "cell_type": "code",
   "execution_count": null,
   "id": "0f40b043",
   "metadata": {},
   "outputs": [],
   "source": [
    "print(get_products_by_category(\"Computers and Laptops\"))"
   ]
  },
  {
   "attachments": {
    "image.png": {
     "image/png": "[encoded data removed]"
    }
   },
   "cell_type": "markdown",
   "id": "544336c8",
   "metadata": {},
   "source": [
    "![image.png](attachment:image.png)"
   ]
  },
  {
   "cell_type": "code",
   "execution_count": null,
   "id": "04aa364d",
   "metadata": {},
   "outputs": [],
   "source": [
    "print(user_message_1)"
   ]
  },
  {
   "attachments": {
    "image.png": {
     "image/png": "[encoded data removed]"
    }
   },
   "cell_type": "markdown",
   "id": "d5f35790",
   "metadata": {},
   "source": [
    "![image.png](attachment:image.png)"
   ]
  },
  {
   "cell_type": "code",
   "execution_count": null,
   "id": "5d09ff6b",
   "metadata": {},
   "outputs": [],
   "source": [
    "print(category_and_product_response_1)"
   ]
  },
  {
   "attachments": {
    "image.png": {
     "image/png": "[encoded data removed]"
    }
   },
   "cell_type": "markdown",
   "id": "bf5f65e1",
   "metadata": {},
   "source": [
    "![image.png](attachment:image.png)"
   ]
  },
  {
   "attachments": {},
   "cell_type": "markdown",
   "id": "62e73370-597a-4195-94b2-e9d188113d7c",
   "metadata": {},
   "source": [
    "### Read Python string into Python list of dictionaries"
   ]
  },
  {
   "cell_type": "code",
   "execution_count": null,
   "id": "ea0a3506",
   "metadata": {},
   "outputs": [],
   "source": [
    "import json \n",
    "\n",
    "def read_string_to_list(input_string):\n",
    "    if input_string is None:\n",
    "        return None\n",
    "\n",
    "    try:\n",
    "        input_string = input_string.replace(\"'\", \"\\\"\")  # Replace single quotes with double quotes for valid JSON\n",
    "        data = json.loads(input_string)\n",
    "        return data\n",
    "    except json.JSONDecodeError:\n",
    "        print(\"Error: Invalid JSON string\")\n",
    "        return None   \n",
    "    "
   ]
  },
  {
   "cell_type": "code",
   "execution_count": null,
   "id": "488a2024",
   "metadata": {},
   "outputs": [],
   "source": [
    "category_and_product_list = read_string_to_list(category_and_product_response_1)\n",
    "print(category_and_product_list)"
   ]
  },
  {
   "attachments": {
    "image.png": {
     "image/png": "[encoded data removed]"
    }
   },
   "cell_type": "markdown",
   "id": "65c02ab3",
   "metadata": {},
   "source": [
    "![image.png](attachment:image.png)"
   ]
  },
  {
   "attachments": {},
   "cell_type": "markdown",
   "id": "97915cdf-137a-41a0-84e0-edcf269a37cd",
   "metadata": {},
   "source": [
    "#### Retrieve detailed product information for the relevant products and categories"
   ]
  },
  {
   "cell_type": "code",
   "execution_count": null,
   "id": "8d571c2c",
   "metadata": {},
   "outputs": [],
   "source": [
    "def generate_output_string(data_list):\n",
    "    output_string = \"\"\n",
    "\n",
    "    if data_list is None:\n",
    "        return output_string\n",
    "\n",
    "    for data in data_list:\n",
    "        try:\n",
    "            if \"products\" in data:\n",
    "                products_list = data[\"products\"]\n",
    "                for product_name in products_list:\n",
    "                    product = get_product_by_name(product_name)\n",
    "                    if product:\n",
    "                        output_string += json.dumps(product, indent=4) + \"\\n\"\n",
    "                    else:\n",
    "                        print(f\"Error: Product '{product_name}' not found\")\n",
    "            elif \"category\" in data:\n",
    "                category_name = data[\"category\"]\n",
    "                category_products = get_products_by_category(category_name)\n",
    "                for product in category_products:\n",
    "                    output_string += json.dumps(product, indent=4) + \"\\n\"\n",
    "            else:\n",
    "                print(\"Error: Invalid object format\")\n",
    "        except Exception as e:\n",
    "            print(f\"Error: {e}\")\n",
    "\n",
    "    return output_string "
   ]
  },
  {
   "cell_type": "code",
   "execution_count": null,
   "id": "a5e18759",
   "metadata": {},
   "outputs": [],
   "source": [
    "product_information_for_user_message_1 = generate_output_string(category_and_product_list)\n",
    "print(product_information_for_user_message_1)"
   ]
  },
  {
   "attachments": {
    "image-2.png": {
     "image/png": "[encoded data removed]"
    },
    "image.png": {
     "image/png": "[encoded data removed]"
    }
   },
   "cell_type": "markdown",
   "id": "9aac0270",
   "metadata": {},
   "source": [
    "![image.png](attachment:image.png)\n",
    "![image-2.png](attachment:image-2.png)"
   ]
  },
  {
   "attachments": {},
   "cell_type": "markdown",
   "id": "5464be6a-d24d-43fa-b9ef-59ded464b087",
   "metadata": {},
   "source": [
    "### Generate answer to user query based on detailed product information"
   ]
  },
  {
   "cell_type": "code",
   "execution_count": null,
   "id": "6d3ad31e",
   "metadata": {},
   "outputs": [],
   "source": [
    "system_message = f\"\"\"\n",
    "You are a customer service assistant for a \\\n",
    "large electronic store. \\\n",
    "Respond in a friendly and helpful tone, \\\n",
    "with very concise answers. \\\n",
    "Make sure to ask the user relevant follow up questions.\n",
    "\"\"\"\n",
    "user_message_1 = f\"\"\"\n",
    "tell me about the smartx pro phone and \\\n",
    "the fotosnap camera, the dslr one. \\\n",
    "Also tell me about your tvs\"\"\"\n",
    "messages =  [  \n",
    "{'role':'system',\n",
    " 'content': system_message},   \n",
    "{'role':'user',\n",
    " 'content': user_message_1},  \n",
    "{'role':'assistant',\n",
    " 'content': f\"\"\"Relevant product information:\\n\\\n",
    " {product_information_for_user_message_1}\"\"\"},   \n",
    "]\n",
    "final_response = get_completion_from_messages(messages)\n",
    "print(final_response)"
   ]
  },
  {
   "attachments": {
    "image.png": {
     "image/png": "[encoded data removed]"
    }
   },
   "cell_type": "markdown",
   "id": "47e79f8a",
   "metadata": {},
   "source": [
    "system_message is the instruction, user_message_1 is the requirements from the user, when role='assistant', that means the system need to meet all requirements from the user based on the assistant messages which in this case is a lot of json objects.\n",
    "\n",
    "![image.png](attachment:image.png)"
   ]
  },
  {
   "attachments": {},
   "cell_type": "markdown",
   "id": "35e36c95",
   "metadata": {},
   "source": []
  }
 ],
 "metadata": {
  "kernelspec": {
   "display_name": "Python 3 (ipykernel)",
   "language": "python",
   "name": "python3"
  },
  "language_info": {
   "codemirror_mode": {
    "name": "ipython",
    "version": 3
   },
   "file_extension": ".py",
   "mimetype": "text/x-python",
   "name": "python",
   "nbconvert_exporter": "python",
   "pygments_lexer": "ipython3",
   "version": "3.11.0"
  }
 },
 "nbformat": 4,
 "nbformat_minor": 5
}
